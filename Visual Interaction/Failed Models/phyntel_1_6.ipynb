{
  "nbformat": 4,
  "nbformat_minor": 0,
  "metadata": {
    "colab": {
      "name": "phyntel 1_6.ipynb",
      "provenance": []
    },
    "kernelspec": {
      "name": "python3",
      "display_name": "Python 3"
    }
  },
  "cells": [
    {
      "cell_type": "code",
      "metadata": {
        "id": "gPYYbXB2Uh8e"
      },
      "source": [
        "import cv2\n",
        "import tensorflow.keras as keras\n",
        "import tensorflow as tf\n",
        "import math\n",
        "import numpy as np\n",
        "import os\n",
        "import cv2\n",
        "from google.colab.patches import cv2_imshow\n",
        "import random\n",
        "import copy\n",
        " \n",
        "from sklearn.manifold import TSNE\n",
        "%matplotlib inline\n",
        "import matplotlib.pyplot as plt\n",
        "import plotly.express as px\n",
        "import pandas as pd  \n",
        " \n",
        "from numpy import unique\n",
        "from numpy import where\n",
        "from sklearn.datasets import make_classification\n",
        "from sklearn.cluster import AffinityPropagation, DBSCAN, KMeans, AgglomerativeClustering\n",
        "from scipy.cluster.hierarchy import dendrogram, linkage\n",
        "from matplotlib import pyplot"
      ],
      "execution_count": null,
      "outputs": []
    },
    {
      "cell_type": "code",
      "metadata": {
        "id": "EEZLbquIUoT7"
      },
      "source": [
        "from google.colab import drive\n",
        "drive.mount('/content/drive')"
      ],
      "execution_count": null,
      "outputs": []
    },
    {
      "cell_type": "code",
      "metadata": {
        "id": "OabkNquTUrSk"
      },
      "source": [
        "len_single = 5\n",
        "len_pair = 1"
      ],
      "execution_count": null,
      "outputs": []
    },
    {
      "cell_type": "code",
      "metadata": {
        "id": "N9vApoN_UrUH"
      },
      "source": [
        "## belief vectors\n",
        "BV12 = tf.Variable(np.random.randn(1,len_pair),trainable = True, dtype = tf.float64)\n",
        "BV13 = tf.Variable(np.random.randn(1,len_pair ), trainable = True, dtype = tf.float64)\n",
        "BV14 = tf.Variable(np.random.randn(1,len_pair), trainable = True, dtype = tf.float64)\n",
        "BV23 = tf.Variable(np.random.randn(1,len_pair ), trainable = True, dtype = tf.float64)\n",
        "BV24 = tf.Variable(np.random.randn(1,len_pair), trainable = True, dtype = tf.float64)\n",
        "BV34 = tf.Variable(np.random.randn(1,len_pair ), trainable = True, dtype = tf.float64)"
      ],
      "execution_count": null,
      "outputs": []
    },
    {
      "cell_type": "code",
      "metadata": {
        "id": "AaPrtNRvUrYf"
      },
      "source": [
        " \n",
        "#input\n",
        "folder = '2-d_colliding'\n",
        "#/content/drive/My Drive/VIPUL COLAB AND DATA/vipul_data\n",
        "#path = '/content/drive/My Drive/VIPUL COLAB AND DATA/'\n",
        "arr = np.load('/content/drive/My Drive/VIPUL COLAB AND DATA/collision_and_pass_data/' + folder +'/0.npy')\n",
        "pos_arr = arr[3:, 0:8]\n",
        "vel_arr = arr[3:, 8:16]\n",
        " \n",
        " \n",
        "  \n",
        "pos__1 = pos_arr[:,0:2]\n",
        "pos__2 = pos_arr[:,2:4]\n",
        "pos__3 = pos_arr[:,4:6]\n",
        "pos__4 = pos_arr[:,6:8]\n",
        " \n",
        "vel__1 = vel_arr[:,8:10]\n",
        "vel__2 = vel_arr[:,10:12]\n",
        "vel__3 = vel_arr[:,12:14]\n",
        "vel__4 = vel_arr[:,14:16]\n",
        " \n",
        "print( pos__1.shape,   pos_arr.shape,  vel__1.shape)\n",
        "print(arr[3:])"
      ],
      "execution_count": null,
      "outputs": []
    },
    {
      "cell_type": "code",
      "metadata": {
        "id": "MEyyWJCGUrcQ"
      },
      "source": [
        "def distance(a, b):\n",
        "  return np.sqrt(np.sum((a-b)**2))"
      ],
      "execution_count": null,
      "outputs": []
    },
    {
      "cell_type": "code",
      "metadata": {
        "id": "RYpXt-z6U5j1"
      },
      "source": [
        "def rel_vel_mag(vel_a,vel_b):\n",
        "  return np.sqrt(np.sum((vel_a-vel_b)**2))\n",
        "  "
      ],
      "execution_count": null,
      "outputs": []
    },
    {
      "cell_type": "code",
      "metadata": {
        "id": "w2te4ibSU5lZ"
      },
      "source": [
        "lst = [[], [], [], [], [], []]\n",
        "pairs = [(1,2), (1,3), (1,4), (2,3), (2,4), (3,4)]\n",
        "r = 1.5\n",
        "dist_for_min = 2*r + 0.1\n",
        "dist = 4.2\n",
        "n = 6\n",
        "for i in range(n):\n",
        "  start = -1\n",
        "  end = 1\n",
        "  interval = [0,0]\n",
        "  j = 0\n",
        "  min_dist = 30\n",
        "  while(j < pos__1.shape[0]):\n",
        "    if(start == -1 and distance(pos_arr[j,2*pairs[i][0]-2 : 2*pairs[i][0]],  pos_arr[j, 2*pairs[i][1]-2 : 2*pairs[i][1]]) < dist):\n",
        "      print(i,j,  \"start started\")\n",
        "      interval[0] = j\n",
        "      start = 1\n",
        "      end = -1\n",
        "      min_dist = 30\n",
        "    elif (start == 1 and end == -1):\n",
        "      if(distance(pos_arr[j,2*pairs[i][0]-2 : 2*pairs[i][0]],  pos_arr[j, 2*pairs[i][1]-2 : 2*pairs[i][1]]) > dist):\n",
        "        if(min_dist < dist_for_min):\n",
        "          print(i, j, \"exited from start, and saved\")\n",
        "          #save and set start = -1, end = 1\n",
        "          interval[1] = j;\n",
        "          lst[i].append(interval)\n",
        "          interval = [0,0]\n",
        "          start = -1\n",
        "          end = 1\n",
        "        else:\n",
        "          #dont save and set start to -1, end = 1\n",
        "          print(i, j, \"exited from start, not saved\")\n",
        "          start = -1\n",
        "          end = 1\n",
        "          interval = [0,0]\n",
        "      else:\n",
        "        min_dist = min(min_dist, distance(pos_arr[j,2*pairs[i][0]-2 : 2*pairs[i][0]],  pos_arr[j, 2*pairs[i][1]-2 : 2*pairs[i][1]]))\n",
        "    j += 1\n",
        " \n",
        " \n",
        "print(lst)\n",
        " \n",
        "popable = []\n",
        "for i in range(len(lst)):\n",
        "  for j in range(len(lst[i])):\n",
        "    if(lst[i][j][0] == 0) :\n",
        "      popable.append(i)\n",
        "for i in popable:\n",
        "  lst[i].pop(0)\n",
        "print(lst)"
      ],
      "execution_count": null,
      "outputs": []
    },
    {
      "cell_type": "code",
      "metadata": {
        "id": "E5VrO0ALU5oi"
      },
      "source": [
        "for i in range(6):\n",
        "  for j in range(len(lst[i])):\n",
        "    print(\"/////////////////////////////////////////////////\",i , \"///////////////////////\", j )\n",
        "    start = lst[i][j][0]\n",
        "    end = lst[i][j][1]\n",
        "    print([start, end])\n",
        "    for k in range(start, end):\n",
        "      print(distance(pos_arr[k,2*pairs[i][0]-2 : 2*pairs[i][0]],  pos_arr[k, 2*pairs[i][1]-2 : 2*pairs[i][1]]))"
      ],
      "execution_count": null,
      "outputs": []
    },
    {
      "cell_type": "code",
      "metadata": {
        "id": "-G2cCSxVZjqb"
      },
      "source": [
        "X_indices = []\n",
        "\n",
        "j_s = [0,1,3]\n",
        "for j in j_s:\n",
        "  ln = len(lst[j])\n",
        "  for k1 in range(ln):\n",
        "    for k2 in range(ln):\n",
        "      print(k1, k2)\n",
        "      temp = ((j,k1), (j,k2))\n",
        "      X_indices.append(temp)\n",
        "print(len(X_indices))\n",
        "\n",
        "X_triplet = []\n",
        "for i in j_s:\n",
        "  for j in j_s:\n",
        "    if(i == j):\n",
        "      continue\n",
        "    \n",
        "    for ik1_1 in range(len(lst[i])):\n",
        "      for ik1_2 in range(len(lst[i])):\n",
        "        for ik2_1 in range(len(lst[i])):\n",
        "          for jk2_1 in range(len(lst[j])):\n",
        "            for jk3_1 in range(len(lst[j])):\n",
        "              for jk3_2 in range(len(lst[j])):\n",
        "                temp = (((i, ik1_1), (i, ik1_2)), ((i, ik2_1), (j, jk2_1)), ((j, jk3_1), (j, jk3_2)))\n",
        "                print(temp)\n",
        "                X_triplet.append(temp)\n",
        "print(len(X_triplet))"
      ],
      "execution_count": null,
      "outputs": []
    },
    {
      "cell_type": "code",
      "metadata": {
        "id": "nptaxjA8iBn6"
      },
      "source": [
        "def similarity_model():\n",
        "  inp1 = keras.Input(shape = (None, 2))\n",
        "  inp2 = keras.Input(shape = (None, 2))\n",
        "\n",
        "  encoder = keras.layers.LSTM(20)\n",
        "\n",
        "  encoded1 = encoder(inp1)\n",
        "  encoded2 = encoder(inp2)\n",
        "\n",
        "  concat = keras.layers.Concatenate(axis = -1)([encoded1, encoded2])\n",
        "\n",
        "  out = keras.layers.Dense(20, activation = 'sigmoid')(concat)\n",
        "  out = keras.layers.Dense(15,  activation = 'sigmoid')(out)\n",
        "  out = keras.layers.Dense(10,  activation = 'sigmoid')(out)\n",
        "  out = keras.layers.Dense(5,  activation = 'sigmoid')(out)\n",
        "  out = keras.layers.Dense(1,  activation = 'sigmoid')(out)\n",
        "  model = keras.Model([inp1, inp2], out)\n",
        "  return model"
      ],
      "execution_count": null,
      "outputs": []
    },
    {
      "cell_type": "code",
      "metadata": {
        "id": "xzmeqJwAjy-B"
      },
      "source": [
        "s_m = similarity_model()\n",
        "s_m.summary()"
      ],
      "execution_count": null,
      "outputs": []
    },
    {
      "cell_type": "code",
      "metadata": {
        "id": "f1ci6JUHkfrr"
      },
      "source": [
        "def loss_fn(y_true, y_pred):\n",
        "  loss = tf.keras.losses.binary_crossentropy(y_true, y_pred)\n",
        "  #print(\"Magnitude loss :\", loss)\n",
        "  return loss"
      ],
      "execution_count": null,
      "outputs": []
    },
    {
      "cell_type": "code",
      "metadata": {
        "id": "ym0fpCE1kedc"
      },
      "source": [
        "def window_generator(start , finish, pair):\n",
        "    #abs_pos\n",
        "    inp_pos_first = pos_arr[start:finish, 2*pair[0]-2:2*pair[0]]\n",
        "    inp_pos_second = pos_arr[start:finish, 2*pair[1]-2:2*pair[1]]\n",
        "    rel_pos = np.subtract(inp_pos_first  ,inp_pos_second)\n",
        "    abs_rel_dist = np.sqrt(np.sum((np.subtract(inp_pos_first  ,inp_pos_second))**2, axis = 1, keepdims = True))\n",
        "    #abs vel\n",
        "    inp_vel_first = vel_arr[start:finish, 2*pair[0]-2:2*pair[0]]\n",
        "    inp_vel_second = vel_arr[start:finish, 2*pair[1]-2:2*pair[1]]\n",
        "    rel_vel = np.subtract(inp_vel_first  ,inp_vel_second)\n",
        "    abs_rel_vel = np.sqrt(np.sum((np.subtract(inp_vel_first  ,inp_vel_second))**2, axis = 1, keepdims = True))\n",
        "    \n",
        "    len = rel_vel.shape[0]\n",
        "    #dv\n",
        "    dv = np.zeros((rel_vel.shape))\n",
        "    for i in range(len-1):\n",
        "      dv[i] = rel_vel[i+1]-rel_vel[i]\n",
        "    \n",
        "    #abs_dv\n",
        "    abs_dv = np.sqrt(np.sum((dv)**2, axis = 1, keepdims = True))\n",
        "\n",
        "    #theta_v_x \n",
        "    theta_v_x = np.zeros((len, 1))\n",
        "    for i in range(theta_v_x.shape[0]):  \n",
        "      v0 = rel_pos[i]\n",
        "      v1 = rel_vel[i]\n",
        "      angle = np.arctan2(np.linalg.det([v0,v1]),np.dot(v0,v1))\n",
        "      theta_v_x[i,0] = np.degrees(angle)\n",
        "    \n",
        "    \n",
        "    #theta_dv_x\n",
        "    theta_dv_x = np.zeros((len, 1))\n",
        "    for i in range(theta_dv_x.shape[0]):  \n",
        "      v0 = rel_pos[i]\n",
        "      v1 = dv[i]\n",
        "      angle = np.arctan2(np.linalg.det([v0,v1]),np.dot(v0,v1))\n",
        "      theta_v_x[i,0] = np.degrees(angle)\n",
        "    \n",
        "\n",
        "    inp = np.concatenate((abs_rel_dist[:len-1,:], abs_rel_vel[:len-1,:], theta_v_x[:len-1,:], abs_dv[:len-1,:], theta_dv_x[:len-1,:]), axis = 1)\n",
        "    \n",
        "    return inp"
      ],
      "execution_count": null,
      "outputs": []
    },
    {
      "cell_type": "code",
      "metadata": {
        "id": "4l0gu3nKj-yU"
      },
      "source": [
        "optimizer = keras.optimizers.Adam(learning_rate = 0.001)\n",
        "for i in range(500):\n",
        "  print('iteration ;:::: ', i)\n",
        "  loss1 = 0\n",
        "  loss2 = 0\n",
        "  with tf.GradientTape() as Tape:\n",
        "    for pts in X_indices:\n",
        "      j_k = pts[0]\n",
        "      j = j_k[0]\n",
        "      k = j_k[1]\n",
        "      start = lst[j][k][0]\n",
        "      end = lst[j][k][1]\n",
        "      data = window_generator(start, end+1, pairs[j])\n",
        "      inp1 = data[:, 3:]\n",
        "      inp1 = np.expand_dims(inp1, axis = 0)\n",
        "\n",
        "      j_k = pts[1]\n",
        "      j = j_k[0]\n",
        "      k = j_k[1]\n",
        "      start = lst[j][k][0]\n",
        "      end = lst[j][k][1]\n",
        "      data = window_generator(start, end+1, pairs[j])\n",
        "      inp2 = data[:, 3:]\n",
        "      inp2 = np.expand_dims(inp2, axis = 0)\n",
        "\n",
        "      exp_out = np.ones((1,1))\n",
        "      \n",
        "      out = s_m([inp1, inp2])\n",
        "\n",
        "      #print(pts,  out)\n",
        "      loss_temp = loss_fn(exp_out, out)\n",
        "      loss1 += loss_temp\n",
        "    #loss1 = loss1/len(X_indices)\n",
        "    for pts in X_triplet:\n",
        "      ##0\n",
        "      j_k = pts[0][0]\n",
        "      j = j_k[0]\n",
        "      k = j_k[1]\n",
        "      start = lst[j][k][0]\n",
        "      end = lst[j][k][1]\n",
        "      data = window_generator(start, end+1, pairs[j])\n",
        "      inp1 = data[:, 3:]\n",
        "      inp1 = np.expand_dims(inp1, axis = 0)\n",
        "      j_k = pts[0][1]\n",
        "      j = j_k[0]\n",
        "      k = j_k[1]\n",
        "      start = lst[j][k][0]\n",
        "      end = lst[j][k][1]\n",
        "      data = window_generator(start, end+1, pairs[j])\n",
        "      inp2 = data[:, 3:]\n",
        "      inp2 = np.expand_dims(inp2, axis = 0)\n",
        "      exp_out = np.ones((1,1))\n",
        "      out1 = s_m([inp1, inp2])\n",
        "      ##1\n",
        "      j_k = pts[1][0]\n",
        "      j = j_k[0]\n",
        "      k = j_k[1]\n",
        "      start = lst[j][k][0]\n",
        "      end = lst[j][k][1]\n",
        "      data = window_generator(start, end+1, pairs[j])\n",
        "      inp1 = data[:, 3:]\n",
        "      inp1 = np.expand_dims(inp1, axis = 0)\n",
        "      j_k = pts[1][1]\n",
        "      j = j_k[0]\n",
        "      k = j_k[1]\n",
        "      start = lst[j][k][0]\n",
        "      end = lst[j][k][1]\n",
        "      data = window_generator(start, end+1, pairs[j])\n",
        "      inp2 = data[:, 3:]\n",
        "      inp2 = np.expand_dims(inp2, axis = 0)\n",
        "      exp_out = np.ones((1,1))\n",
        "      out2 = s_m([inp1, inp2])\n",
        "      ##2\n",
        "      j_k = pts[2][0]\n",
        "      j = j_k[0]\n",
        "      k = j_k[1]\n",
        "      start = lst[j][k][0]\n",
        "      end = lst[j][k][1]\n",
        "      data = window_generator(start, end+1, pairs[j])\n",
        "      inp1 = data[:, 3:]\n",
        "      inp1 = np.expand_dims(inp1, axis = 0)\n",
        "      j_k = pts[2][1]\n",
        "      j = j_k[0]\n",
        "      k = j_k[1]\n",
        "      start = lst[j][k][0]\n",
        "      end = lst[j][k][1]\n",
        "      data = window_generator(start, end+1, pairs[j])\n",
        "      inp2 = data[:, 3:]\n",
        "      inp2 = np.expand_dims(inp2, axis = 0)\n",
        "      exp_out = np.ones((1,1))\n",
        "      out3 = s_m([inp1, inp2])\n",
        "      \n",
        "      loss_temp = 2*out2[0,0] - out1[0,0] - out3[0,0]\n",
        "      loss2 += loss_temp\n",
        "    #loss2 = loss2/len(X_triplet)\n",
        "    print(loss1, loss2)\n",
        "    loss = loss1+loss2\n",
        "  print(\"INFO :: \" , loss)\n",
        "  grad = Tape.gradient(loss, s_m.trainable_variables)\n",
        "  optimizer.apply_gradients(zip(grad, s_m.trainable_variables))\n",
        "  \n",
        "  s_m.save('/content/drive/My Drive/VIPUL COLAB AND DATA/' + 's_m' + marker + '.hdf5')"
      ],
      "execution_count": null,
      "outputs": []
    },
    {
      "cell_type": "code",
      "metadata": {
        "id": "DFeYciFum2hb"
      },
      "source": [
        "pts_lst = [((4,0), (0,0)), ((4,0), (1,0)) , ((4,0), (2,0)), ((4,0), (3,0)), ((4,0), (4,0)), ((4,0), (5,0))]\n",
        "for pts in pts_lst:\n",
        "  j_k = pts[0]\n",
        "  j = j_k[0]\n",
        "  k = j_k[1]\n",
        "  start = lst[j][k][0]\n",
        "  end = lst[j][k][1]\n",
        "  data = window_generator(start, end+1, pairs[j])\n",
        "  inp1 = data[:, 3:]\n",
        "  inp1 = np.expand_dims(inp1, axis = 0)\n",
        "\n",
        "  j_k   = pts[1]\n",
        "  j     = j_k[0]\n",
        "  k     = j_k[1]\n",
        "  start = lst[j][k][0]\n",
        "  end   = lst[j][k][1]\n",
        "  data  = window_generator(start, end+1, pairs[j])\n",
        "  inp2  = data[:, 3:]\n",
        "  inp2  = np.expand_dims(inp2, axis = 0)\n",
        "\n",
        "  exp_out = np.ones((1,1))\n",
        "\n",
        "  out = s_m([inp1, inp2])\n",
        "\n",
        "  print(pts,  out)"
      ],
      "execution_count": null,
      "outputs": []
    }
  ]
}