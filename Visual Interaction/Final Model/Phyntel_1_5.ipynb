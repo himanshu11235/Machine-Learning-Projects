{
  "nbformat": 4,
  "nbformat_minor": 0,
  "metadata": {
    "colab": {
      "name": "Phyntel 1_5.ipynb",
      "provenance": []
    },
    "kernelspec": {
      "name": "python3",
      "display_name": "Python 3"
    }
  },
  "cells": [
    {
      "cell_type": "code",
      "metadata": {
        "id": "gPYYbXB2Uh8e"
      },
      "source": [
        "import cv2\n",
        "import tensorflow.keras as keras\n",
        "import tensorflow as tf\n",
        "import math\n",
        "import numpy as np\n",
        "import os\n",
        "import cv2\n",
        "from google.colab.patches import cv2_imshow\n",
        "import random\n",
        "import copy\n",
        " \n",
        "from sklearn.manifold import TSNE\n",
        "%matplotlib inline\n",
        "import matplotlib.pyplot as plt\n",
        "import plotly.express as px\n",
        "import pandas as pd  \n",
        " \n",
        "from numpy import unique\n",
        "from numpy import where\n",
        "from sklearn.datasets import make_classification\n",
        "from sklearn.cluster import AffinityPropagation, DBSCAN, KMeans, AgglomerativeClustering\n",
        "from scipy.cluster.hierarchy import dendrogram, linkage\n",
        "from matplotlib import pyplot"
      ],
      "execution_count": null,
      "outputs": []
    },
    {
      "cell_type": "code",
      "metadata": {
        "id": "EEZLbquIUoT7"
      },
      "source": [
        "from google.colab import drive\n",
        "drive.mount('/content/drive')"
      ],
      "execution_count": null,
      "outputs": []
    },
    {
      "cell_type": "code",
      "metadata": {
        "id": "OabkNquTUrSk"
      },
      "source": [
        "len_single = 5\n",
        "len_pair = 1"
      ],
      "execution_count": null,
      "outputs": []
    },
    {
      "cell_type": "code",
      "metadata": {
        "id": "N9vApoN_UrUH"
      },
      "source": [
        "## belief vectors\n",
        "BV12 = tf.Variable(np.random.randn(1,len_pair),trainable = True, dtype = tf.float64)\n",
        "BV13 = tf.Variable(np.random.randn(1,len_pair ), trainable = True, dtype = tf.float64)\n",
        "BV14 = tf.Variable(np.random.randn(1,len_pair), trainable = True, dtype = tf.float64)\n",
        "BV23 = tf.Variable(np.random.randn(1,len_pair ), trainable = True, dtype = tf.float64)\n",
        "BV24 = tf.Variable(np.random.randn(1,len_pair), trainable = True, dtype = tf.float64)\n",
        "BV34 = tf.Variable(np.random.randn(1,len_pair ), trainable = True, dtype = tf.float64)"
      ],
      "execution_count": null,
      "outputs": []
    },
    {
      "cell_type": "code",
      "metadata": {
        "id": "eLLiH77zUrW_"
      },
      "source": [
        "marker = '1_5'"
      ],
      "execution_count": null,
      "outputs": []
    },
    {
      "cell_type": "code",
      "metadata": {
        "id": "AaPrtNRvUrYf"
      },
      "source": [
        " \n",
        "#input\n",
        "folder = '2-d_colliding'\n",
        "#/content/drive/My Drive/VIPUL COLAB AND DATA/vipul_data\n",
        "#path = '/content/drive/My Drive/VIPUL COLAB AND DATA/'\n",
        "arr = np.load('/content/drive/My Drive/VIPUL COLAB AND DATA/collision_and_pass_data/' + folder +'/0.npy')\n",
        "pos_arr = arr[3:, 0:8]\n",
        "vel_arr = arr[3:, 8:16]\n",
        " \n",
        " \n",
        "  \n",
        "pos__1 = pos_arr[:,0:2]\n",
        "pos__2 = pos_arr[:,2:4]\n",
        "pos__3 = pos_arr[:,4:6]\n",
        "pos__4 = pos_arr[:,6:8]\n",
        " \n",
        "vel__1 = vel_arr[:,8:10]\n",
        "vel__2 = vel_arr[:,10:12]\n",
        "vel__3 = vel_arr[:,12:14]\n",
        "vel__4 = vel_arr[:,14:16]\n",
        " \n",
        "print( pos__1.shape,   pos_arr.shape,  vel__1.shape)\n",
        "print(arr[3:])"
      ],
      "execution_count": null,
      "outputs": []
    },
    {
      "cell_type": "code",
      "metadata": {
        "id": "MEyyWJCGUrcQ"
      },
      "source": [
        "def distance(a, b):\n",
        "  return np.sqrt(np.sum((a-b)**2))"
      ],
      "execution_count": null,
      "outputs": []
    },
    {
      "cell_type": "code",
      "metadata": {
        "id": "RYpXt-z6U5j1"
      },
      "source": [
        "def rel_vel_mag(vel_a,vel_b):\n",
        "  return np.sqrt(np.sum((vel_a-vel_b)**2))"
      ],
      "execution_count": null,
      "outputs": []
    },
    {
      "cell_type": "code",
      "metadata": {
        "id": "w2te4ibSU5lZ"
      },
      "source": [
        "lst = [[], [], [], [], [], []]\n",
        "pairs = [(1,2), (1,3), (1,4), (2,3), (2,4), (3,4)]\n",
        "r = 1.5\n",
        "dist_for_min = 2*r + 0.1\n",
        "dist = 4.2\n",
        "n = 6\n",
        "for i in range(n):\n",
        "  start = -1\n",
        "  end = 1\n",
        "  interval = [0,0]\n",
        "  j = 0\n",
        "  min_dist = 30\n",
        "  while(j < pos__1.shape[0]):\n",
        "    if(start == -1 and distance(pos_arr[j,2*pairs[i][0]-2 : 2*pairs[i][0]],  pos_arr[j, 2*pairs[i][1]-2 : 2*pairs[i][1]]) < dist):\n",
        "      print(i,j,  \"start started\")\n",
        "      interval[0] = j\n",
        "      start = 1\n",
        "      end = -1\n",
        "      min_dist = 30\n",
        "    elif (start == 1 and end == -1):\n",
        "      if(distance(pos_arr[j,2*pairs[i][0]-2 : 2*pairs[i][0]],  pos_arr[j, 2*pairs[i][1]-2 : 2*pairs[i][1]]) > dist):\n",
        "        if(min_dist < dist_for_min):\n",
        "          print(i, j, \"exited from start, and saved\")\n",
        "          #save and set start = -1, end = 1\n",
        "          interval[1] = j;\n",
        "          lst[i].append(interval)\n",
        "          interval = [0,0]\n",
        "          start = -1\n",
        "          end = 1\n",
        "        else:\n",
        "          #dont save and set start to -1, end = 1\n",
        "          print(i, j, \"exited from start, not saved\")\n",
        "          start = -1\n",
        "          end = 1\n",
        "          interval = [0,0]\n",
        "      else:\n",
        "        min_dist = min(min_dist, distance(pos_arr[j,2*pairs[i][0]-2 : 2*pairs[i][0]],  pos_arr[j, 2*pairs[i][1]-2 : 2*pairs[i][1]]))\n",
        "    j += 1\n",
        " \n",
        " \n",
        "print(lst)\n",
        " \n",
        "popable = []\n",
        "for i in range(len(lst)):\n",
        "  for j in range(len(lst[i])):\n",
        "    if(lst[i][j][0] == 0) :\n",
        "      popable.append(i)\n",
        "for i in popable:\n",
        "  lst[i].pop(0)\n",
        "print(lst)"
      ],
      "execution_count": null,
      "outputs": []
    },
    {
      "cell_type": "code",
      "metadata": {
        "id": "E5VrO0ALU5oi"
      },
      "source": [
        "for i in range(6):\n",
        "  for j in range(len(lst[i])):\n",
        "    print(\"/////////////////////////////////////////////////\",i , \"///////////////////////\", j )\n",
        "    start = lst[i][j][0]\n",
        "    end = lst[i][j][1]\n",
        "    print([start, end])\n",
        "    for k in range(start, end):\n",
        "      print(distance(pos_arr[k,2*pairs[i][0]-2 : 2*pairs[i][0]],  pos_arr[k, 2*pairs[i][1]-2 : 2*pairs[i][1]]))"
      ],
      "execution_count": null,
      "outputs": []
    },
    {
      "cell_type": "code",
      "metadata": {
        "id": "W566cBGdU5rY"
      },
      "source": [
        "tf.keras.backend.set_floatx('float64')\n",
        "delta_t = 1/60"
      ],
      "execution_count": null,
      "outputs": []
    },
    {
      "cell_type": "code",
      "metadata": {
        "id": "4G7IVCmrVCUs"
      },
      "source": [
        "# average model\n",
        "def PP():\n",
        "  \n",
        "  inp = keras.layers.Input(shape = (2, ) , dtype = tf.float64)\n",
        "  \n",
        "  \n",
        "  out = keras.layers.Dense(13, activation = 'sigmoid')(inp)\n",
        "\n",
        "  \n",
        "  out = keras.layers.Dense(12, activation = 'sigmoid')(out)\n",
        "\n",
        "  \n",
        "  out = keras.layers.Dense(10, activation = 'sigmoid')(out)\n",
        "\n",
        "  \n",
        "  out = keras.layers.Dense(10,)(out)\n",
        "\n",
        "  out = keras.layers.Dense(1)(out)\n",
        "  model = keras.Model([inp], [out])\n",
        "  return model"
      ],
      "execution_count": null,
      "outputs": []
    },
    {
      "cell_type": "code",
      "metadata": {
        "id": "B1GN0hmWVCWe"
      },
      "source": [
        "mod = PP()\n",
        "mod.summary()"
      ],
      "execution_count": null,
      "outputs": []
    },
    {
      "cell_type": "code",
      "metadata": {
        "id": "_simFYx8VCZH"
      },
      "source": [
        "def loss_fn(output, next_output):\n",
        "  loss_mag = tf.reduce_mean(tf.losses.mean_squared_error(output, next_output))\n",
        "  #loss_ang = tf.reduce_mean(tf.losses.mean_squared_error(output[:,1:2], next_output[:,1:2]))\n",
        "  loss = loss_mag\n",
        "  #print(\":: total loss : \", loss)\n",
        " \n",
        "  return loss"
      ],
      "execution_count": null,
      "outputs": []
    },
    {
      "cell_type": "code",
      "metadata": {
        "id": "wZs3OaWYVCcF"
      },
      "source": [
        "lst_IVs = [BV12, BV13, BV14, BV23, BV24, BV34]"
      ],
      "execution_count": null,
      "outputs": []
    },
    {
      "cell_type": "code",
      "metadata": {
        "id": "1eeUZYdZVOsw"
      },
      "source": [
        " \n",
        "def window_generator(start , finish, pair):\n",
        "    #abs_pos\n",
        "    inp_pos_first = pos_arr[start:finish, 2*pair[0]-2:2*pair[0]]\n",
        "    inp_pos_second = pos_arr[start:finish, 2*pair[1]-2:2*pair[1]]\n",
        "    rel_pos = np.subtract(inp_pos_first  ,inp_pos_second)\n",
        "    abs_rel_dist = np.sqrt(np.sum((np.subtract(inp_pos_first  ,inp_pos_second))**2, axis = 1, keepdims = True))\n",
        "    #abs vel\n",
        "    inp_vel_first = vel_arr[start:finish, 2*pair[0]-2:2*pair[0]]\n",
        "    inp_vel_second = vel_arr[start:finish, 2*pair[1]-2:2*pair[1]]\n",
        "    rel_vel = np.subtract(inp_vel_first  ,inp_vel_second)\n",
        "    abs_rel_vel = np.sqrt(np.sum((np.subtract(inp_vel_first  ,inp_vel_second))**2, axis = 1, keepdims = True))\n",
        "    \n",
        "    len = rel_vel.shape[0]\n",
        "    #dv\n",
        "    dv = np.zeros((rel_vel.shape))\n",
        "    for i in range(len-1):\n",
        "      dv[i] = rel_vel[i+1]-rel_vel[0]\n",
        "    \n",
        "    #app_vel_mag\n",
        "    app_vel_mag = np.zeros((len, 1))\n",
        "    for i in range(len):\n",
        "      if(abs_rel_dist[i,0] > 0):\n",
        "        app_vel_mag[i, 0] = np.dot(rel_vel[i], rel_pos[i])/abs_rel_dist[i,0]\n",
        "      else :\n",
        "        app_vel_mag[i,0] = app_vel_mag[i-1,0]\n",
        "        \n",
        "\n",
        "    #abs_dv\n",
        "    abs_dv = np.sqrt(np.sum((dv)**2, axis = 1, keepdims = True))\n",
        " \n",
        "    #theta_v_x \n",
        "    theta_v_x = np.zeros((len, 1))\n",
        "    for i in range(theta_v_x.shape[0]):  \n",
        "      v0 = rel_pos[i]\n",
        "      v1 = rel_vel[i]\n",
        "      angle = np.arctan2(np.linalg.det([v0,v1]),np.dot(v0,v1))\n",
        "      theta_v_x[i,0] = np.degrees(angle)\n",
        "    \n",
        "    \n",
        "    #theta_dv_x\n",
        "    theta_dv_x = np.zeros((len, 1))\n",
        "    for i in range(theta_dv_x.shape[0]):  \n",
        "      v0 = rel_pos[i]\n",
        "      v1 = dv[i]\n",
        "      angle = np.arctan2(np.linalg.det([v0,v1]),np.dot(v0,v1))\n",
        "      theta_v_x[i,0] = np.degrees(angle)\n",
        "    \n",
        " \n",
        "    inp = np.concatenate((abs_rel_dist[:len-1,:], app_vel_mag[:len-1,:], abs_dv[:len-1,:]), axis = 1)\n",
        "    \n",
        "    return inp"
      ],
      "execution_count": null,
      "outputs": []
    },
    {
      "cell_type": "code",
      "metadata": {
        "id": "PeWC5MxdVQbu"
      },
      "source": [
        "j = 1\n",
        "ind = [0,1,1,0,0,0] \n",
        "#ind = [0,0,0,0,0,0]\n",
        "k = ind[j]\n",
        "start = lst[j][k][0]\n",
        "end = lst[j][k][1]\n",
        "if(j == 1):\n",
        "  start = start+1\n",
        "  end = end-6\n",
        "data = window_generator(start, end+1, pairs[j])\n",
        "inp = data[0:data.shape[0]-1, 0]\n",
        "exp_out = data[:, :]\n",
        "print(inp)\n",
        "exp_out"
      ],
      "execution_count": null,
      "outputs": []
    },
    {
      "cell_type": "code",
      "metadata": {
        "id": "jbFCtxaiVV6H"
      },
      "source": [
        "# average model\n",
        "ind = [0,1,1,0,0,0] \n",
        "#ind = [0,0,0,0,0,0]\n",
        "optimizer = keras.optimizers.Adam(learning_rate = 0.001)\n",
        "non_zeros_interaction_pairs = [0,0,0,0,0,0]\n",
        "for i in range(20000):\n",
        "  print('iteration ;:::: ', i)\n",
        "  loss = 0\n",
        " \n",
        "  with tf.GradientTape() as Tape:\n",
        "    for j in range(1, 6):\n",
        "      k = ind[j]\n",
        "      non_zeros_interaction_pairs[j] = 1\n",
        "      start = lst[j][k][0]\n",
        "      end = lst[j][k][1]\n",
        "      if(j == 1):\n",
        "        start = start+1\n",
        "        end = end-6\n",
        "      data = window_generator(start, end+1, pairs[j])\n",
        "      inp = data[:, 0:2]\n",
        "      exp_out = data[:, 2:]\n",
        "      #bv = BV_window_generator(start, end, j)\n",
        "      \n",
        "      output = mod([ inp])\n",
        "      output = tf.multiply(output, lst_IVs[j])\n",
        "      loss_temp = loss_fn(output, exp_out)\n",
        "      loss += loss_temp\n",
        "  print(\"INFO :: \" , loss)\n",
        "  #print(lst_IVs[0])\n",
        "  diff_var_lst = [mod.trainable_variables]\n",
        "  \n",
        "  for m in range(6):\n",
        "    if (non_zeros_interaction_pairs[m] == 1):\n",
        "      diff_var_lst.append(lst_IVs[m])\n",
        "  grad = Tape.gradient(loss, diff_var_lst)\n",
        "  #print(lst_IVs)\n",
        "  #optimizer.apply_gradients(zip(grad[0], mod.trainable_variables))\n",
        "  optimizer.apply_gradients(zip(grad[1:], diff_var_lst[1:]))\n",
        "  \n",
        "  \n",
        "  \n",
        "  IVs = np.concatenate((np.asarray([non_zeros_interaction_pairs]), keras.backend.get_value(BV12), keras.backend.get_value(BV13), keras.backend.get_value(BV14), keras.backend.get_value(BV23), keras.backend.get_value(BV24), keras.backend.get_value(BV34)), axis = 1)\n",
        "  mod.save('/content/drive/My Drive/VIPUL COLAB AND DATA/' + 'm' + marker + '.hdf5')\n",
        "  np.save('/content/drive/My Drive/VIPUL COLAB AND DATA/IVs' + marker + '.npy',IVs)"
      ],
      "execution_count": null,
      "outputs": []
    }
  ]
}