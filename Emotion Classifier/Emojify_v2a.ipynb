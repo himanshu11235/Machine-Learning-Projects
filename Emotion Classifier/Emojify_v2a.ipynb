{
  "nbformat": 4,
  "nbformat_minor": 0,
  "metadata": {
    "coursera": {
      "course_slug": "nlp-sequence-models",
      "graded_item_id": "RNnEs",
      "launcher_item_id": "acNYU"
    },
    "kernelspec": {
      "display_name": "Python 3",
      "language": "python",
      "name": "python3"
    },
    "language_info": {
      "codemirror_mode": {
        "name": "ipython",
        "version": 3
      },
      "file_extension": ".py",
      "mimetype": "text/x-python",
      "name": "python",
      "nbconvert_exporter": "python",
      "pygments_lexer": "ipython3",
      "version": "3.6.0"
    },
    "colab": {
      "name": "Emojify_v2a.ipynb",
      "provenance": [],
      "collapsed_sections": []
    }
  },
  "cells": [
    {
      "cell_type": "code",
      "metadata": {
        "id": "q1MLi1SPlbjf"
      },
      "source": [
        "import numpy as np\n",
        "from emo_utils import *\n",
        "import emoji\n",
        "import matplotlib.pyplot as plt\n",
        "\n",
        "%matplotlib inline"
      ],
      "execution_count": null,
      "outputs": []
    },
    {
      "cell_type": "code",
      "metadata": {
        "id": "saHhpm42lbjj"
      },
      "source": [
        "X_train, Y_train = read_csv('data/train_emoji.csv')\n",
        "X_test, Y_test = read_csv('data/tesss.csv')"
      ],
      "execution_count": null,
      "outputs": []
    },
    {
      "cell_type": "code",
      "metadata": {
        "id": "x8SPgorQlbjm"
      },
      "source": [
        "maxLen = len(max(X_train, key=len).split())"
      ],
      "execution_count": null,
      "outputs": []
    },
    {
      "cell_type": "code",
      "metadata": {
        "id": "qxGED_wOlbjq",
        "outputId": "1636e4f2-a009-49de-9dc6-e1758691d2e2"
      },
      "source": [
        "for idx in range(10):\n",
        "    print(X_train[idx], label_to_emoji(Y_train[idx]))"
      ],
      "execution_count": null,
      "outputs": [
        {
          "output_type": "stream",
          "text": [
            "never talk to me again 😞\n",
            "I am proud of your achievements 😄\n",
            "It is the worst day in my life 😞\n",
            "Miss you so much ❤️\n",
            "food is life 🍴\n",
            "I love you mum ❤️\n",
            "Stop saying bullshit 😞\n",
            "congratulations on your acceptance 😄\n",
            "The assignment is too long  😞\n",
            "I want to go play ⚾\n"
          ],
          "name": "stdout"
        }
      ]
    },
    {
      "cell_type": "code",
      "metadata": {
        "id": "HVP7QQPulbju"
      },
      "source": [
        "Y_oh_train = convert_to_one_hot(Y_train, C = 5)\n",
        "Y_oh_test = convert_to_one_hot(Y_test, C = 5)"
      ],
      "execution_count": null,
      "outputs": []
    },
    {
      "cell_type": "code",
      "metadata": {
        "id": "cJBuoZWLlbjy",
        "outputId": "f34421f2-e8fb-410e-8504-ab43612912c9"
      },
      "source": [
        "idx = 50\n",
        "print(f\"Sentence '{X_train[50]}' has label index {Y_train[idx]}, which is emoji {label_to_emoji(Y_train[idx])}\", )\n",
        "print(f\"Label index {Y_train[idx]} in one-hot encoding format is {Y_oh_train[idx]}\")"
      ],
      "execution_count": null,
      "outputs": [
        {
          "output_type": "stream",
          "text": [
            "Sentence 'I missed you' has label index 0, which is emoji ❤️\n",
            "Label index 0 in one-hot encoding format is [ 1.  0.  0.  0.  0.]\n"
          ],
          "name": "stdout"
        }
      ]
    },
    {
      "cell_type": "code",
      "metadata": {
        "id": "_9f6KzOxlbj3"
      },
      "source": [
        "word_to_index, index_to_word, word_to_vec_map = read_glove_vecs('../../readonly/glove.6B.50d.txt')"
      ],
      "execution_count": null,
      "outputs": []
    },
    {
      "cell_type": "code",
      "metadata": {
        "id": "zZJRI4Wylbj8",
        "outputId": "1cc34f53-e6c1-4545-b818-1695bdb312b2"
      },
      "source": [
        "word = \"cucumber\"\n",
        "idx = 289846\n",
        "print(\"the index of\", word, \"in the vocabulary is\", word_to_index[word])\n",
        "print(\"the\", str(idx) + \"th word in the vocabulary is\", index_to_word[idx])"
      ],
      "execution_count": null,
      "outputs": [
        {
          "output_type": "stream",
          "text": [
            "the index of cucumber in the vocabulary is 113317\n",
            "the 289846th word in the vocabulary is potatos\n"
          ],
          "name": "stdout"
        }
      ]
    },
    {
      "cell_type": "code",
      "metadata": {
        "id": "m014OITjlbkZ",
        "outputId": "fc876608-3ec7-4138-8987-15728b43b6af"
      },
      "source": [
        "import numpy as np\n",
        "np.random.seed(0)\n",
        "from keras.models import Model\n",
        "from keras.layers import Dense, Input, Dropout, LSTM, Activation\n",
        "from keras.layers.embeddings import Embedding\n",
        "from keras.preprocessing import sequence\n",
        "from keras.initializers import glorot_uniform\n",
        "np.random.seed(1)"
      ],
      "execution_count": null,
      "outputs": [
        {
          "output_type": "stream",
          "text": [
            "Using TensorFlow backend.\n"
          ],
          "name": "stderr"
        }
      ]
    },
    {
      "cell_type": "code",
      "metadata": {
        "id": "BVQksuKblbkv"
      },
      "source": [
        "# GRADED FUNCTION: Emojify_V2\n",
        "\n",
        "def Emojify_V2(input_shape, word_to_vec_map, word_to_index):\n",
        "    \"\"\"\n",
        "    Function creating the Emojify-v2 model's graph.\n",
        "    \n",
        "    Arguments:\n",
        "    input_shape -- shape of the input, usually (max_len,)\n",
        "    word_to_vec_map -- dictionary mapping every word in a vocabulary into its 50-dimensional vector representation\n",
        "    word_to_index -- dictionary mapping from words to their indices in the vocabulary (400,001 words)\n",
        "\n",
        "    Returns:\n",
        "    model -- a model instance in Keras\n",
        "    \"\"\"\n",
        "    \n",
        "    ### START CODE HERE ###\n",
        "    # Define sentence_indices as the input of the graph.\n",
        "    # It should be of shape input_shape and dtype 'int32' (as it contains indices, which are integers).\n",
        "    sentence_indices = Input(shape=(input_shape ), dtype= \"int32\")\n",
        "    \n",
        "    # Create the embedding layer pretrained with GloVe Vectors (≈1 line)\n",
        "    embedding_layer = pretrained_embedding_layer(word_to_vec_map, word_to_index)\n",
        "    \n",
        "    # Propagate sentence_indices through your embedding layer\n",
        "    # (See additional hints in the instructions).\n",
        "    embeddings = embedding_layer(sentence_indices)   \n",
        "    \n",
        "    # Propagate the embeddings through an LSTM layer with 128-dimensional hidden state\n",
        "    # The returned output should be a batch of sequences.\n",
        "    X = LSTM(128, return_sequences=True)(embeddings)\n",
        "    # Add dropout with a probability of 0.5\n",
        "    X = Dropout(0.5)(X)\n",
        "    # Propagate X trough another LSTM layer with 128-dimensional hidden state\n",
        "    # The returned output should be a single hidden state, not a batch of sequences.\n",
        "    X = LSTM(128)(X)\n",
        "    # Add dropout with a probability of 0.5\n",
        "    X = Dropout(0.5)(X)\n",
        "    # Propagate X through a Dense layer with 5 units\n",
        "    X = Dense(5)(X)\n",
        "    # Add a softmax activation\n",
        "    X = Activation('softmax')(X)\n",
        "    \n",
        "    # Create Model instance which converts sentence_indices into X.\n",
        "    model = Model(inputs=sentence_indices, outputs= X)\n",
        "    \n",
        "    ### END CODE HERE ###\n",
        "    \n",
        "    return model"
      ],
      "execution_count": null,
      "outputs": []
    },
    {
      "cell_type": "code",
      "metadata": {
        "scrolled": false,
        "id": "tbp4e6Kelbkz",
        "outputId": "506229cd-2dcc-4729-8c9b-67f618749429"
      },
      "source": [
        "model = Emojify_V2((maxLen,), word_to_vec_map, word_to_index)\n",
        "model.summary()"
      ],
      "execution_count": null,
      "outputs": [
        {
          "output_type": "stream",
          "text": [
            "_________________________________________________________________\n",
            "Layer (type)                 Output Shape              Param #   \n",
            "=================================================================\n",
            "input_7 (InputLayer)         (None, 10)                0         \n",
            "_________________________________________________________________\n",
            "embedding_7 (Embedding)      (None, 10, 50)            20000050  \n",
            "_________________________________________________________________\n",
            "lstm_8 (LSTM)                (None, 10, 128)           91648     \n",
            "_________________________________________________________________\n",
            "dropout_7 (Dropout)          (None, 10, 128)           0         \n",
            "_________________________________________________________________\n",
            "lstm_9 (LSTM)                (None, 128)               131584    \n",
            "_________________________________________________________________\n",
            "dropout_8 (Dropout)          (None, 128)               0         \n",
            "_________________________________________________________________\n",
            "dense_4 (Dense)              (None, 5)                 645       \n",
            "_________________________________________________________________\n",
            "activation_4 (Activation)    (None, 5)                 0         \n",
            "=================================================================\n",
            "Total params: 20,223,927\n",
            "Trainable params: 223,877\n",
            "Non-trainable params: 20,000,050\n",
            "_________________________________________________________________\n"
          ],
          "name": "stdout"
        }
      ]
    },
    {
      "cell_type": "code",
      "metadata": {
        "id": "QO7tR4Aplbk2"
      },
      "source": [
        "model.compile(loss='categorical_crossentropy', optimizer='adam', metrics=['accuracy'])"
      ],
      "execution_count": null,
      "outputs": []
    },
    {
      "cell_type": "code",
      "metadata": {
        "id": "D_k7B9Atlbk5"
      },
      "source": [
        "X_train_indices = sentences_to_indices(X_train, word_to_index, maxLen)\n",
        "Y_train_oh = convert_to_one_hot(Y_train, C = 5)"
      ],
      "execution_count": null,
      "outputs": []
    },
    {
      "cell_type": "code",
      "metadata": {
        "scrolled": true,
        "id": "PhEUJpIslbk8",
        "outputId": "d3486d0f-3774-41f1-8fdb-e916391a2b5a"
      },
      "source": [
        "model.fit(X_train_indices, Y_train_oh, epochs = 50, batch_size = 32, shuffle=True)"
      ],
      "execution_count": null,
      "outputs": [
        {
          "output_type": "stream",
          "text": [
            "Epoch 1/50\n",
            "132/132 [==============================] - 0s - loss: 1.6014 - acc: 0.2424     \n",
            "Epoch 2/50\n",
            "132/132 [==============================] - 0s - loss: 1.5211 - acc: 0.2727     \n",
            "Epoch 3/50\n",
            "132/132 [==============================] - 0s - loss: 1.4965 - acc: 0.2803     \n",
            "Epoch 4/50\n",
            "132/132 [==============================] - 0s - loss: 1.4463 - acc: 0.4394     \n",
            "Epoch 5/50\n",
            "132/132 [==============================] - 0s - loss: 1.4095 - acc: 0.4545     \n",
            "Epoch 6/50\n",
            "132/132 [==============================] - 0s - loss: 1.3043 - acc: 0.5758     \n",
            "Epoch 7/50\n",
            "132/132 [==============================] - 0s - loss: 1.1677 - acc: 0.6136     \n",
            "Epoch 8/50\n",
            "132/132 [==============================] - 0s - loss: 1.0884 - acc: 0.6061     \n",
            "Epoch 9/50\n",
            "132/132 [==============================] - 0s - loss: 0.9121 - acc: 0.6667     \n",
            "Epoch 10/50\n",
            "132/132 [==============================] - 0s - loss: 0.8701 - acc: 0.6894     \n",
            "Epoch 11/50\n",
            "132/132 [==============================] - 0s - loss: 0.7511 - acc: 0.7197     \n",
            "Epoch 12/50\n",
            "132/132 [==============================] - 0s - loss: 0.7056 - acc: 0.7500     \n",
            "Epoch 13/50\n",
            "132/132 [==============================] - 0s - loss: 0.6387 - acc: 0.7803     \n",
            "Epoch 14/50\n",
            "132/132 [==============================] - 0s - loss: 0.6216 - acc: 0.7348     \n",
            "Epoch 15/50\n",
            "132/132 [==============================] - 0s - loss: 0.5130 - acc: 0.7955     \n",
            "Epoch 16/50\n",
            "132/132 [==============================] - 0s - loss: 0.5272 - acc: 0.8258     \n",
            "Epoch 17/50\n",
            "132/132 [==============================] - 0s - loss: 0.4091 - acc: 0.8636     \n",
            "Epoch 18/50\n",
            "132/132 [==============================] - 0s - loss: 0.4341 - acc: 0.8409     \n",
            "Epoch 19/50\n",
            "132/132 [==============================] - 0s - loss: 0.3506 - acc: 0.8636     \n",
            "Epoch 20/50\n",
            "132/132 [==============================] - 0s - loss: 0.3580 - acc: 0.8561     \n",
            "Epoch 21/50\n",
            "132/132 [==============================] - 0s - loss: 0.6731 - acc: 0.7576     \n",
            "Epoch 22/50\n",
            "132/132 [==============================] - 0s - loss: 0.4058 - acc: 0.8333     \n",
            "Epoch 23/50\n",
            "132/132 [==============================] - 0s - loss: 0.4133 - acc: 0.8258     \n",
            "Epoch 24/50\n",
            "132/132 [==============================] - 0s - loss: 0.3004 - acc: 0.9015     \n",
            "Epoch 25/50\n",
            "132/132 [==============================] - 0s - loss: 0.3305 - acc: 0.8636     \n",
            "Epoch 26/50\n",
            "132/132 [==============================] - 0s - loss: 0.2261 - acc: 0.9091     \n",
            "Epoch 27/50\n",
            "132/132 [==============================] - 0s - loss: 0.1785 - acc: 0.9318     \n",
            "Epoch 28/50\n",
            "132/132 [==============================] - 0s - loss: 0.1662 - acc: 0.9394     \n",
            "Epoch 29/50\n",
            "132/132 [==============================] - 0s - loss: 0.1844 - acc: 0.9394     \n",
            "Epoch 30/50\n",
            "132/132 [==============================] - 0s - loss: 0.1651 - acc: 0.9470     \n",
            "Epoch 31/50\n",
            "132/132 [==============================] - 0s - loss: 0.0966 - acc: 0.9697     \n",
            "Epoch 32/50\n",
            "132/132 [==============================] - 0s - loss: 0.1268 - acc: 0.9545     \n",
            "Epoch 33/50\n",
            "132/132 [==============================] - 0s - loss: 0.1316 - acc: 0.9394     \n",
            "Epoch 34/50\n",
            "132/132 [==============================] - 0s - loss: 0.0974 - acc: 0.9697     \n",
            "Epoch 35/50\n",
            "132/132 [==============================] - 0s - loss: 0.0923 - acc: 0.9545     \n",
            "Epoch 36/50\n",
            "132/132 [==============================] - 0s - loss: 0.3450 - acc: 0.9015     \n",
            "Epoch 37/50\n",
            "132/132 [==============================] - 0s - loss: 0.5011 - acc: 0.8864     \n",
            "Epoch 38/50\n",
            "132/132 [==============================] - 0s - loss: 0.1848 - acc: 0.9091     \n",
            "Epoch 39/50\n",
            "132/132 [==============================] - 0s - loss: 0.2378 - acc: 0.9470     \n",
            "Epoch 40/50\n",
            "132/132 [==============================] - 0s - loss: 0.1997 - acc: 0.9394     \n",
            "Epoch 41/50\n",
            "132/132 [==============================] - 0s - loss: 0.2446 - acc: 0.9242     \n",
            "Epoch 42/50\n",
            "132/132 [==============================] - 0s - loss: 0.1268 - acc: 0.9773     \n",
            "Epoch 43/50\n",
            "132/132 [==============================] - 0s - loss: 0.1145 - acc: 0.9697     \n",
            "Epoch 44/50\n",
            "132/132 [==============================] - 0s - loss: 0.1240 - acc: 0.9773     \n",
            "Epoch 45/50\n",
            "132/132 [==============================] - 0s - loss: 0.0990 - acc: 0.9773     \n",
            "Epoch 46/50\n",
            "132/132 [==============================] - 0s - loss: 0.0584 - acc: 0.9848     \n",
            "Epoch 47/50\n",
            "132/132 [==============================] - 0s - loss: 0.0536 - acc: 0.9924     \n",
            "Epoch 48/50\n",
            "132/132 [==============================] - 0s - loss: 0.0515 - acc: 0.9848     \n",
            "Epoch 49/50\n",
            "132/132 [==============================] - 0s - loss: 0.0258 - acc: 1.0000     \n",
            "Epoch 50/50\n",
            "132/132 [==============================] - 0s - loss: 0.0303 - acc: 0.9924     \n"
          ],
          "name": "stdout"
        },
        {
          "output_type": "execute_result",
          "data": {
            "text/plain": [
              "<keras.callbacks.History at 0x7f99cdcd7748>"
            ]
          },
          "metadata": {
            "tags": []
          },
          "execution_count": 40
        }
      ]
    },
    {
      "cell_type": "code",
      "metadata": {
        "scrolled": true,
        "id": "SmVz8aZmlblA",
        "outputId": "1d6ab1e0-2518-436a-e263-fadf5e317446"
      },
      "source": [
        "X_test_indices = sentences_to_indices(X_test, word_to_index, max_len = maxLen)\n",
        "Y_test_oh = convert_to_one_hot(Y_test, C = 5)\n",
        "loss, acc = model.evaluate(X_test_indices, Y_test_oh)\n",
        "print()\n",
        "print(\"Test accuracy = \", acc)"
      ],
      "execution_count": null,
      "outputs": [
        {
          "output_type": "stream",
          "text": [
            "32/56 [================>.............] - ETA: 0s\n",
            "Test accuracy =  0.857142865658\n"
          ],
          "name": "stdout"
        }
      ]
    },
    {
      "cell_type": "code",
      "metadata": {
        "id": "PuBI8ZOElblC",
        "outputId": "706f72f9-3d8f-4aa0-9fae-aa474679127a"
      },
      "source": [
        "# This code allows you to see the mislabelled examples\n",
        "C = 5\n",
        "y_test_oh = np.eye(C)[Y_test.reshape(-1)]\n",
        "X_test_indices = sentences_to_indices(X_test, word_to_index, maxLen)\n",
        "pred = model.predict(X_test_indices)\n",
        "for i in range(len(X_test)):\n",
        "    x = X_test_indices\n",
        "    num = np.argmax(pred[i])\n",
        "    if(num != Y_test[i]):\n",
        "        print('Expected emoji:'+ label_to_emoji(Y_test[i]) + ' prediction: '+ X_test[i] + label_to_emoji(num).strip())"
      ],
      "execution_count": null,
      "outputs": [
        {
          "output_type": "stream",
          "text": [
            "Expected emoji:😄 prediction: she got me a nice present\t❤️\n",
            "Expected emoji:😞 prediction: work is hard\t😄\n",
            "Expected emoji:😞 prediction: This girl is messing with me\t❤️\n",
            "Expected emoji:😞 prediction: work is horrible\t😄\n",
            "Expected emoji:😄 prediction: you brighten my day\t❤️\n",
            "Expected emoji:😞 prediction: she is a bully\t😄\n",
            "Expected emoji:😄 prediction: will you be my valentine\t❤️\n",
            "Expected emoji:🍴 prediction: I did not have breakfast ❤️\n"
          ],
          "name": "stdout"
        }
      ]
    },
    {
      "cell_type": "code",
      "metadata": {
        "id": "rlKoEgDllblF",
        "outputId": "69892f14-5f97-44a0-8090-e21b32f7097e"
      },
      "source": [
        "# Change the sentence below to see your prediction. Make sure all the words are in the Glove embeddings.  \n",
        "x_test = np.array(['not feeling happy'])\n",
        "X_test_indices = sentences_to_indices(x_test, word_to_index, maxLen)\n",
        "print(x_test[0] +' '+  label_to_emoji(np.argmax(model.predict(X_test_indices))))"
      ],
      "execution_count": null,
      "outputs": [
        {
          "output_type": "stream",
          "text": [
            "not feeling happy 😞\n"
          ],
          "name": "stdout"
        }
      ]
    }
  ]
}